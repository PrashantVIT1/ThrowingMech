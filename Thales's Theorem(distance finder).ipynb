{
 "cells": [
  {
   "cell_type": "code",
   "execution_count": 5,
   "metadata": {},
   "outputs": [],
   "source": [
    "import numpy as np\n",
    "import cv2\n",
    "import math\n",
    "import pyautogui\n",
    "import time\n"
   ]
  },
  {
   "cell_type": "code",
   "execution_count": 6,
   "metadata": {},
   "outputs": [
    {
     "name": "stdout",
     "output_type": "stream",
     "text": [
      "[1403, 639]\n"
     ]
    }
   ],
   "source": [
    "img = cv2.imread(\"Sample_1.png\")\n",
    "hsv = cv2.cvtColor(img, cv2.COLOR_BGR2HSV)\n",
    "lower_green = np.array([0, 0, 0])\n",
    "upper_green = np.array([255, 255, 255])\n",
    "\n",
    "\n",
    "\n",
    "mask = cv2.inRange(hsv, lower_green,upper_green)\n",
    "contours, hierarchy = cv2.findContours(mask,  cv2.RETR_TREE, cv2.CHAIN_APPROX_NONE)\n",
    "cnt = contours[0]\n",
    "M = cv2.moments(cnt)\n",
    "mask = cv2.inRange(hsv, lower_green,upper_green)\n",
    "contours, hierarchy = cv2.findContours(mask,  cv2.RETR_TREE, cv2.CHAIN_APPROX_NONE)\n",
    "\n",
    "o_x = int(M['m10']/M['m00'])\n",
    "o_y = int(M['m01']/M['m00'])\n",
    "O_=[o_x]+[o_y]\n",
    "print(O_)"
   ]
  },
  {
   "cell_type": "code",
   "execution_count": 10,
   "metadata": {},
   "outputs": [
    {
     "name": "stdout",
     "output_type": "stream",
     "text": [
      "5\n",
      "[603, 603, 603, 603]\n",
      "[26, 165, 223, 282]\n",
      "[3.065, 2.37, 2.08, 1.7850000000000001]\n",
      "[1.935, 2.63, 2.92, 3.215]\n"
     ]
    }
   ],
   "source": [
    "img = cv2.imread(\"Sample_1.png\")\n",
    "hsv = cv2.cvtColor(img, cv2.COLOR_BGR2HSV)\n",
    "lower_green = np.array([33, 80, 40])\n",
    "upper_green = np.array([102, 255, 255])\n",
    "\n",
    "mask = cv2.inRange(hsv, lower_green,upper_green)\n",
    "contours, hierarchy = cv2.findContours(mask,  cv2.RETR_TREE, cv2.CHAIN_APPROX_NONE)\n",
    "Dx=[]\n",
    "Dy=[]\n",
    "DO_=[]\n",
    "SO_=[]\n",
    "a=math.pi/4\n",
    "Tan=math.tan(a)\n",
    "AS=5\n",
    "SO=round(AS*Tan)\n",
    "\n",
    "# O_O=\n",
    "\n",
    "print(SO)\n",
    "for i in range(4,0,-1):\n",
    "    cnt = contours[i]\n",
    "    M = cv2.moments(cnt)\n",
    "    dx = int(M['m10']/M['m00'])\n",
    "    dy = int(M['m01']/M['m00'])\n",
    "    Dx=Dx+[dx]\n",
    "    Dy=Dy+[dy]\n",
    "for i in range(len(Dx)):\n",
    "    dO_=((Dy[i]-O_[1])**2)**0.5\n",
    "    DO_=DO_+[dO_]\n",
    "for i in range(len(DO_)):\n",
    "    DO_[i]=DO_[i]*0.005   #let scale be 0.005cm/pix\n",
    "    \n",
    "for i in range(len(DO_)):\n",
    "    sO_=(SO*(AS-DO_[i]))/AS\n",
    "    SO_=SO_+[sO_]\n",
    "    \n",
    "    \n",
    "    \n",
    "print(Dx)\n",
    "print(Dy)\n",
    "print(DO_)\n",
    "print(SO_)\n",
    "# cnt = contours[0]\n",
    "# M = cv2.moments(cnt)\n",
    "# cx = int(M['m10']/M['m00'])\n",
    "# cy = int(M['m01']/M['m00'])\n",
    "\n",
    "# # print(cx,cy)\n",
    "# mask_final = mask\n",
    "# contours, hierarchy = cv2.findContours(mask.copy(),  cv2.RETR_TREE, cv2.CHAIN_APPROX_NONE)\n",
    "\n",
    "cv2.imshow('hsv',mask)\n",
    "cv2.waitKey(0)\n",
    "cv2.destroyAllWindows()"
   ]
  },
  {
   "cell_type": "code",
   "execution_count": null,
   "metadata": {},
   "outputs": [],
   "source": []
  }
 ],
 "metadata": {
  "kernelspec": {
   "display_name": "Python 3",
   "language": "python",
   "name": "python3"
  },
  "language_info": {
   "codemirror_mode": {
    "name": "ipython",
    "version": 3
   },
   "file_extension": ".py",
   "mimetype": "text/x-python",
   "name": "python",
   "nbconvert_exporter": "python",
   "pygments_lexer": "ipython3",
   "version": "3.7.6"
  }
 },
 "nbformat": 4,
 "nbformat_minor": 4
}
